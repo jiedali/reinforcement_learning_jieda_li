{
 "cells": [
  {
   "cell_type": "code",
   "execution_count": 3,
   "metadata": {},
   "outputs": [
    {
     "name": "stdout",
     "output_type": "stream",
     "text": [
      "2.0.0\n"
     ]
    }
   ],
   "source": [
    "import numpy as np\n",
    "import tensorflow as tf\n",
    "print(tf.__version__)"
   ]
  },
  {
   "cell_type": "code",
   "execution_count": 10,
   "metadata": {},
   "outputs": [],
   "source": [
    "def sample_jester_data(file_name='./jester_data_40jokes_19181users.npy', context_dim = 32, num_actions = 8, num_contexts = 19181,\n",
    "    shuffle_rows=True, shuffle_cols=False):\n",
    "    \"\"\"Samples bandit game from (user, joke) dense subset of Jester dataset.\n",
    "    Args:\n",
    "       file_name: Route of file containing the modified Jester dataset.\n",
    "       context_dim: Context dimension (i.e. vector with some ratings from a user).\n",
    "       num_actions: Number of actions (number of joke ratings to predict).\n",
    "       num_contexts: Number of contexts to sample.\n",
    "       shuffle_rows: If True, rows from original dataset are shuffled.\n",
    "       shuffle_cols: Whether or not context/action jokes are randomly shuffled.\n",
    "    Returns:\n",
    "       dataset: Sampled matrix with rows: (context, rating_1, ..., rating_k).\n",
    "       opt_vals: Vector of deterministic optimal (reward, action) for each context.\n",
    "\"\"\"\n",
    "    np.random.seed(0)\n",
    "    with tf.gfile.Open(file_name, 'rb') as f:\n",
    "       dataset = np.load(f)\n",
    "    if shuffle_cols:\n",
    "       dataset = dataset[:, np.random.permutation(dataset.shape[1])]\n",
    "    if shuffle_rows:\n",
    "       np.random.shuffle(dataset)\n",
    "    dataset = dataset[:num_contexts, :]\n",
    "    assert context_dim + num_actions == dataset.shape[1], 'Wrong data dimensions.'\n",
    "  \n",
    "\n",
    "    opt_actions = np.argmax(dataset[:, context_dim:], axis=1)\n",
    "    opt_rewards = np.array([dataset[i, context_dim + a] for i, a in enumerate(opt_actions)])\n",
    "    \n",
    "    return dataset, opt_rewards, opt_actions"
   ]
  },
  {
   "cell_type": "code",
   "execution_count": 11,
   "metadata": {},
   "outputs": [],
   "source": [
    "file_name='./jester_data_40jokes_19181users.npy'"
   ]
  },
  {
   "cell_type": "code",
   "execution_count": 12,
   "metadata": {},
   "outputs": [
    {
     "ename": "AttributeError",
     "evalue": "module 'tensorflow' has no attribute 'gfile'",
     "output_type": "error",
     "traceback": [
      "\u001b[0;31m---------------------------------------------------------------------------\u001b[0m",
      "\u001b[0;31mAttributeError\u001b[0m                            Traceback (most recent call last)",
      "\u001b[0;32m<ipython-input-12-26470f263bd3>\u001b[0m in \u001b[0;36m<module>\u001b[0;34m\u001b[0m\n\u001b[0;32m----> 1\u001b[0;31m \u001b[0mdataset\u001b[0m\u001b[0;34m,\u001b[0m \u001b[0mopt_rewards\u001b[0m\u001b[0;34m,\u001b[0m \u001b[0mopt_actions\u001b[0m\u001b[0;34m=\u001b[0m\u001b[0msample_jester_data\u001b[0m\u001b[0;34m(\u001b[0m\u001b[0;34m)\u001b[0m\u001b[0;34m\u001b[0m\u001b[0;34m\u001b[0m\u001b[0m\n\u001b[0m",
      "\u001b[0;32m<ipython-input-10-eadc593b2ab1>\u001b[0m in \u001b[0;36msample_jester_data\u001b[0;34m(file_name, context_dim, num_actions, num_contexts, shuffle_rows, shuffle_cols)\u001b[0m\n\u001b[1;32m     14\u001b[0m \"\"\"\n\u001b[1;32m     15\u001b[0m     \u001b[0mnp\u001b[0m\u001b[0;34m.\u001b[0m\u001b[0mrandom\u001b[0m\u001b[0;34m.\u001b[0m\u001b[0mseed\u001b[0m\u001b[0;34m(\u001b[0m\u001b[0;36m0\u001b[0m\u001b[0;34m)\u001b[0m\u001b[0;34m\u001b[0m\u001b[0;34m\u001b[0m\u001b[0m\n\u001b[0;32m---> 16\u001b[0;31m     \u001b[0;32mwith\u001b[0m \u001b[0mtf\u001b[0m\u001b[0;34m.\u001b[0m\u001b[0mgfile\u001b[0m\u001b[0;34m.\u001b[0m\u001b[0mOpen\u001b[0m\u001b[0;34m(\u001b[0m\u001b[0mfile_name\u001b[0m\u001b[0;34m,\u001b[0m \u001b[0;34m'rb'\u001b[0m\u001b[0;34m)\u001b[0m \u001b[0;32mas\u001b[0m \u001b[0mf\u001b[0m\u001b[0;34m:\u001b[0m\u001b[0;34m\u001b[0m\u001b[0;34m\u001b[0m\u001b[0m\n\u001b[0m\u001b[1;32m     17\u001b[0m        \u001b[0mdataset\u001b[0m \u001b[0;34m=\u001b[0m \u001b[0mnp\u001b[0m\u001b[0;34m.\u001b[0m\u001b[0mload\u001b[0m\u001b[0;34m(\u001b[0m\u001b[0mf\u001b[0m\u001b[0;34m)\u001b[0m\u001b[0;34m\u001b[0m\u001b[0;34m\u001b[0m\u001b[0m\n\u001b[1;32m     18\u001b[0m     \u001b[0;32mif\u001b[0m \u001b[0mshuffle_cols\u001b[0m\u001b[0;34m:\u001b[0m\u001b[0;34m\u001b[0m\u001b[0;34m\u001b[0m\u001b[0m\n",
      "\u001b[0;31mAttributeError\u001b[0m: module 'tensorflow' has no attribute 'gfile'"
     ]
    }
   ],
   "source": [
    "dataset, opt_rewards, opt_actions=sample_jester_data()"
   ]
  },
  {
   "cell_type": "code",
   "execution_count": null,
   "metadata": {},
   "outputs": [],
   "source": []
  }
 ],
 "metadata": {
  "kernelspec": {
   "display_name": "dl",
   "language": "python",
   "name": "dl"
  },
  "language_info": {
   "codemirror_mode": {
    "name": "ipython",
    "version": 3
   },
   "file_extension": ".py",
   "mimetype": "text/x-python",
   "name": "python",
   "nbconvert_exporter": "python",
   "pygments_lexer": "ipython3",
   "version": "3.7.7"
  }
 },
 "nbformat": 4,
 "nbformat_minor": 2
}
